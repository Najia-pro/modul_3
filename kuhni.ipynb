{
 "cells": [
  {
   "cell_type": "markdown",
   "metadata": {
    "papermill": {
     "duration": 0.031167,
     "end_time": "2021-01-23T19:52:29.679599",
     "exception": false,
     "start_time": "2021-01-23T19:52:29.648432",
     "status": "completed"
    },
    "tags": []
   },
   "source": [
    "# Выбранная методология в отборе переменных для модели"
   ]
  },
  {
   "cell_type": "markdown",
   "metadata": {
    "papermill": {
     "duration": 0.029213,
     "end_time": "2021-01-23T19:52:29.737678",
     "exception": false,
     "start_time": "2021-01-23T19:52:29.708465",
     "status": "completed"
    },
    "tags": []
   },
   "source": [
    "После перебора данных оставила данные, которые получила из исходных данных, \n",
    "без добавления дополнительных данных из вне.\n",
    "1. Это количество видов разных кухонь, которые подаются в ресторане.\n",
    "2. Число откликов. Оказалось показательным, чем ниже рейтинг, тем больше отзывов. \n",
    "3. Время между откликами в днях.\n",
    "4. Пересчитанный по своему рейтинг: этот показатель универсально сочетает в себе и размер города (по количеству жителей, туристов и ресторанов), а также показывает распределение предпочтений посетителей. Чтобы этот показатель сделать пригодным, я как бы нормирую следующим образом: беру max от Ranking - это по сути и есть размер, считаю этот мах за 100%, а остальные места внутри города распределяю между 0 и 100% пропорционально занятым местам (Ranking). Получается некий нормированный универсальный показатель, который можно использовать.\n",
    "5. Уровень MAE около 0,23"
   ]
  },
  {
   "cell_type": "markdown",
   "metadata": {
    "papermill": {
     "duration": 0.028935,
     "end_time": "2021-01-23T19:52:29.796158",
     "exception": false,
     "start_time": "2021-01-23T19:52:29.767223",
     "status": "completed"
    },
    "tags": []
   },
   "source": [
    "# Загрузка Pandas и очистка данных"
   ]
  },
  {
   "cell_type": "code",
   "execution_count": 1,
   "metadata": {
    "execution": {
     "iopub.execute_input": "2021-01-23T19:52:29.861234Z",
     "iopub.status.busy": "2021-01-23T19:52:29.860509Z",
     "iopub.status.idle": "2021-01-23T19:52:31.450058Z",
     "shell.execute_reply": "2021-01-23T19:52:31.450570Z"
    },
    "papermill": {
     "duration": 1.626312,
     "end_time": "2021-01-23T19:52:31.450799",
     "exception": false,
     "start_time": "2021-01-23T19:52:29.824487",
     "status": "completed"
    },
    "tags": []
   },
   "outputs": [],
   "source": [
    "import pandas as pd\n",
    "import datetime\n",
    "from datetime import datetime, timedelta\n",
    "from sklearn.preprocessing import PolynomialFeatures\n",
    "import matplotlib.pyplot as plt\n",
    "import seaborn as sns\n",
    "from collections import Counter\n",
    "\n",
    "# Загружаем специальный инструмент для разбивки:\n",
    "from sklearn.model_selection import train_test_split\n",
    "\n",
    "# Импортируем необходимые библиотеки:\n",
    "from sklearn.ensemble import RandomForestRegressor # инструмент для создания и обучения модели\n",
    "from sklearn import metrics # инструменты для оценки точности модели\n",
    "\n",
    "\n",
    "RANDOM_SEED = 42"
   ]
  },
  {
   "cell_type": "code",
   "execution_count": 2,
   "metadata": {
    "execution": {
     "iopub.execute_input": "2021-01-23T19:52:31.514787Z",
     "iopub.status.busy": "2021-01-23T19:52:31.513688Z",
     "iopub.status.idle": "2021-01-23T19:52:31.523763Z",
     "shell.execute_reply": "2021-01-23T19:52:31.522933Z"
    },
    "papermill": {
     "duration": 0.042758,
     "end_time": "2021-01-23T19:52:31.523949",
     "exception": false,
     "start_time": "2021-01-23T19:52:31.481191",
     "status": "completed"
    },
    "tags": []
   },
   "outputs": [
    {
     "name": "stdout",
     "output_type": "stream",
     "text": [
      "/kaggle/input/sf-dst-restaurant-rating/sample_submission.csv\n",
      "/kaggle/input/sf-dst-restaurant-rating/main_task.csv\n",
      "/kaggle/input/sf-dst-restaurant-rating/kaggle_task.csv\n"
     ]
    }
   ],
   "source": [
    "import os\n",
    "for dirname, _, filenames in os.walk('/kaggle/input'):\n",
    "    for filename in filenames:\n",
    "        print(os.path.join(dirname, filename))"
   ]
  },
  {
   "cell_type": "code",
   "execution_count": 3,
   "metadata": {
    "execution": {
     "iopub.execute_input": "2021-01-23T19:52:31.586635Z",
     "iopub.status.busy": "2021-01-23T19:52:31.585822Z",
     "iopub.status.idle": "2021-01-23T19:52:32.028906Z",
     "shell.execute_reply": "2021-01-23T19:52:32.028285Z"
    },
    "papermill": {
     "duration": 0.47549,
     "end_time": "2021-01-23T19:52:32.029032",
     "exception": false,
     "start_time": "2021-01-23T19:52:31.553542",
     "status": "completed"
    },
    "tags": []
   },
   "outputs": [],
   "source": [
    "DATA_DIR = '/kaggle/input/sf-dst-restaurant-rating/'\n",
    "# скачали основную базу\n",
    "df_train = pd.read_csv(DATA_DIR+'/main_task.csv')\n",
    "df_test = pd.read_csv(DATA_DIR+'kaggle_task.csv')\n",
    "sample_submission = pd.read_csv(DATA_DIR+'/sample_submission.csv')"
   ]
  },
  {
   "cell_type": "code",
   "execution_count": 4,
   "metadata": {
    "execution": {
     "iopub.execute_input": "2021-01-23T19:52:32.127013Z",
     "iopub.status.busy": "2021-01-23T19:52:32.097134Z",
     "iopub.status.idle": "2021-01-23T19:52:32.147602Z",
     "shell.execute_reply": "2021-01-23T19:52:32.148129Z"
    },
    "papermill": {
     "duration": 0.090037,
     "end_time": "2021-01-23T19:52:32.148298",
     "exception": false,
     "start_time": "2021-01-23T19:52:32.058261",
     "status": "completed"
    },
    "tags": []
   },
   "outputs": [
    {
     "name": "stdout",
     "output_type": "stream",
     "text": [
      "<class 'pandas.core.frame.DataFrame'>\n",
      "RangeIndex: 40000 entries, 0 to 39999\n",
      "Data columns (total 10 columns):\n",
      " #   Column             Non-Null Count  Dtype  \n",
      "---  ------             --------------  -----  \n",
      " 0   Restaurant_id      40000 non-null  object \n",
      " 1   City               40000 non-null  object \n",
      " 2   Cuisine Style      30717 non-null  object \n",
      " 3   Ranking            40000 non-null  float64\n",
      " 4   Rating             40000 non-null  float64\n",
      " 5   Price Range        26114 non-null  object \n",
      " 6   Number of Reviews  37457 non-null  float64\n",
      " 7   Reviews            40000 non-null  object \n",
      " 8   URL_TA             40000 non-null  object \n",
      " 9   ID_TA              40000 non-null  object \n",
      "dtypes: float64(3), object(7)\n",
      "memory usage: 3.1+ MB\n"
     ]
    }
   ],
   "source": [
    "df_train.info()"
   ]
  },
  {
   "cell_type": "code",
   "execution_count": 5,
   "metadata": {
    "execution": {
     "iopub.execute_input": "2021-01-23T19:52:32.215094Z",
     "iopub.status.busy": "2021-01-23T19:52:32.214427Z",
     "iopub.status.idle": "2021-01-23T19:52:32.224485Z",
     "shell.execute_reply": "2021-01-23T19:52:32.223822Z"
    },
    "papermill": {
     "duration": 0.046398,
     "end_time": "2021-01-23T19:52:32.224621",
     "exception": false,
     "start_time": "2021-01-23T19:52:32.178223",
     "status": "completed"
    },
    "tags": []
   },
   "outputs": [
    {
     "name": "stdout",
     "output_type": "stream",
     "text": [
      "<class 'pandas.core.frame.DataFrame'>\n",
      "RangeIndex: 10000 entries, 0 to 9999\n",
      "Data columns (total 2 columns):\n",
      " #   Column         Non-Null Count  Dtype  \n",
      "---  ------         --------------  -----  \n",
      " 0   Restaurant_id  10000 non-null  object \n",
      " 1   Rating         10000 non-null  float64\n",
      "dtypes: float64(1), object(1)\n",
      "memory usage: 156.4+ KB\n"
     ]
    }
   ],
   "source": [
    "sample_submission.info()"
   ]
  },
  {
   "cell_type": "code",
   "execution_count": 6,
   "metadata": {
    "execution": {
     "iopub.execute_input": "2021-01-23T19:52:32.294457Z",
     "iopub.status.busy": "2021-01-23T19:52:32.293618Z",
     "iopub.status.idle": "2021-01-23T19:52:32.327337Z",
     "shell.execute_reply": "2021-01-23T19:52:32.326765Z"
    },
    "papermill": {
     "duration": 0.072502,
     "end_time": "2021-01-23T19:52:32.327466",
     "exception": false,
     "start_time": "2021-01-23T19:52:32.254964",
     "status": "completed"
    },
    "tags": []
   },
   "outputs": [],
   "source": [
    "df_train['sample'] = 1 # помечаем где у нас трейн\n",
    "df_test['sample'] = 0 # помечаем где у нас тест\n",
    "df_test['Rating'] = 0 # в тесте у нас нет значения Rating, мы его должны предсказать, по этому пока просто заполняем нулями\n",
    "\n",
    "df = df_test.append(df_train, sort=False).reset_index(drop=True) # объединяем"
   ]
  },
  {
   "cell_type": "code",
   "execution_count": 7,
   "metadata": {
    "execution": {
     "iopub.execute_input": "2021-01-23T19:52:32.398980Z",
     "iopub.status.busy": "2021-01-23T19:52:32.398232Z",
     "iopub.status.idle": "2021-01-23T19:52:32.463746Z",
     "shell.execute_reply": "2021-01-23T19:52:32.462836Z"
    },
    "papermill": {
     "duration": 0.105515,
     "end_time": "2021-01-23T19:52:32.463915",
     "exception": false,
     "start_time": "2021-01-23T19:52:32.358400",
     "status": "completed"
    },
    "tags": []
   },
   "outputs": [
    {
     "name": "stdout",
     "output_type": "stream",
     "text": [
      "<class 'pandas.core.frame.DataFrame'>\n",
      "RangeIndex: 50000 entries, 0 to 49999\n",
      "Data columns (total 11 columns):\n",
      " #   Column             Non-Null Count  Dtype  \n",
      "---  ------             --------------  -----  \n",
      " 0   Restaurant_id      50000 non-null  object \n",
      " 1   City               50000 non-null  object \n",
      " 2   Cuisine Style      38410 non-null  object \n",
      " 3   Ranking            50000 non-null  float64\n",
      " 4   Price Range        32639 non-null  object \n",
      " 5   Number of Reviews  46800 non-null  float64\n",
      " 6   Reviews            49998 non-null  object \n",
      " 7   URL_TA             50000 non-null  object \n",
      " 8   ID_TA              50000 non-null  object \n",
      " 9   sample             50000 non-null  int64  \n",
      " 10  Rating             50000 non-null  float64\n",
      "dtypes: float64(3), int64(1), object(7)\n",
      "memory usage: 4.2+ MB\n"
     ]
    }
   ],
   "source": [
    "df.info()"
   ]
  },
  {
   "cell_type": "code",
   "execution_count": 8,
   "metadata": {
    "execution": {
     "iopub.execute_input": "2021-01-23T19:52:32.544052Z",
     "iopub.status.busy": "2021-01-23T19:52:32.532849Z",
     "iopub.status.idle": "2021-01-23T19:52:32.631456Z",
     "shell.execute_reply": "2021-01-23T19:52:32.630830Z"
    },
    "papermill": {
     "duration": 0.135639,
     "end_time": "2021-01-23T19:52:32.631570",
     "exception": false,
     "start_time": "2021-01-23T19:52:32.495931",
     "status": "completed"
    },
    "tags": []
   },
   "outputs": [],
   "source": [
    "# добавляю колонку - число разных кухонь подаваемых в ресторане - это одна из значимых переменных для модели\n",
    "df['kuhn']=df['Cuisine Style'].apply(lambda x: 1 if pd.isna(x)==True else len(x[1:-1].split(', ')) )"
   ]
  },
  {
   "cell_type": "code",
   "execution_count": 9,
   "metadata": {
    "execution": {
     "iopub.execute_input": "2021-01-23T19:52:32.699610Z",
     "iopub.status.busy": "2021-01-23T19:52:32.698822Z",
     "iopub.status.idle": "2021-01-23T19:52:32.707702Z",
     "shell.execute_reply": "2021-01-23T19:52:32.707011Z"
    },
    "papermill": {
     "duration": 0.04518,
     "end_time": "2021-01-23T19:52:32.707842",
     "exception": false,
     "start_time": "2021-01-23T19:52:32.662662",
     "status": "completed"
    },
    "tags": []
   },
   "outputs": [
    {
     "data": {
      "text/plain": [
       "1     20744\n",
       "2      7794\n",
       "3      6638\n",
       "4      5948\n",
       "5      4482\n",
       "6      2611\n",
       "7      1294\n",
       "8       363\n",
       "9        93\n",
       "10       26\n",
       "11        4\n",
       "21        1\n",
       "15        1\n",
       "13        1\n",
       "Name: kuhn, dtype: int64"
      ]
     },
     "execution_count": 9,
     "metadata": {},
     "output_type": "execute_result"
    }
   ],
   "source": [
    "# подсчет ресторанов по количеству подаваемых кухонь для справки, чтобы убедиться, что разброс очень большой\n",
    "df['kuhn'].value_counts()"
   ]
  },
  {
   "cell_type": "code",
   "execution_count": 10,
   "metadata": {
    "execution": {
     "iopub.execute_input": "2021-01-23T19:52:32.783144Z",
     "iopub.status.busy": "2021-01-23T19:52:32.782428Z",
     "iopub.status.idle": "2021-01-23T19:52:32.786145Z",
     "shell.execute_reply": "2021-01-23T19:52:32.786641Z"
    },
    "papermill": {
     "duration": 0.047071,
     "end_time": "2021-01-23T19:52:32.786812",
     "exception": false,
     "start_time": "2021-01-23T19:52:32.739741",
     "status": "completed"
    },
    "tags": []
   },
   "outputs": [],
   "source": [
    "# работаем с колонкой Reviews. В ней есть данные, которые нужно почистить\n",
    "df['Reviews'].fillna('', inplace=True)"
   ]
  },
  {
   "cell_type": "code",
   "execution_count": 11,
   "metadata": {
    "execution": {
     "iopub.execute_input": "2021-01-23T19:52:32.853701Z",
     "iopub.status.busy": "2021-01-23T19:52:32.853009Z",
     "iopub.status.idle": "2021-01-23T19:52:34.120512Z",
     "shell.execute_reply": "2021-01-23T19:52:34.121031Z"
    },
    "papermill": {
     "duration": 1.302837,
     "end_time": "2021-01-23T19:52:34.121197",
     "exception": false,
     "start_time": "2021-01-23T19:52:32.818360",
     "status": "completed"
    },
    "tags": []
   },
   "outputs": [],
   "source": [
    "# поиск дат комментариев и работа с датами, определение таймдельта\n",
    "def time_one(x):\n",
    "    b=x[1:-1].split(\"[\")[-1][1:11]\n",
    "    d1=datetime.strptime(b,'%m/%d/%Y')\n",
    "    return d1\n",
    "\n",
    "def time_end(x):\n",
    "    c=x[1:-1][-12:-2]\n",
    "    d2=datetime.strptime(c,'%m/%d/%Y')\n",
    "    return d2\n",
    "\n",
    "df['tim_1']=df['Reviews'].apply(lambda x: 0 if len(x)<10 else time_one(x))\n",
    "df['tim_2']=df['Reviews'].apply(lambda x: 0 if len(x)<10 else time_end(x))\n",
    "df['delta']=df['tim_1']-df['tim_2'] # в формате таймдельта\n",
    "df['delta_1']=df['Ranking']"
   ]
  },
  {
   "cell_type": "code",
   "execution_count": 12,
   "metadata": {
    "execution": {
     "iopub.execute_input": "2021-01-23T19:52:34.189492Z",
     "iopub.status.busy": "2021-01-23T19:52:34.188409Z",
     "iopub.status.idle": "2021-01-23T19:52:54.203752Z",
     "shell.execute_reply": "2021-01-23T19:52:54.202921Z"
    },
    "papermill": {
     "duration": 20.0507,
     "end_time": "2021-01-23T19:52:54.203890",
     "exception": false,
     "start_time": "2021-01-23T19:52:34.153190",
     "status": "completed"
    },
    "tags": []
   },
   "outputs": [],
   "source": [
    "# преобразование таймдельты и запись в столбец delta_1 в виде числа (количество целых дней)\n",
    "ll=len(df)\n",
    "for i in range(ll):\n",
    "    a=df.iloc[i,14]\n",
    "    if a==0:\n",
    "        df.iloc[i,15]=0\n",
    "    else:\n",
    "        df.iloc[i,15]=a/timedelta(1)"
   ]
  },
  {
   "cell_type": "code",
   "execution_count": 13,
   "metadata": {
    "execution": {
     "iopub.execute_input": "2021-01-23T19:52:54.275031Z",
     "iopub.status.busy": "2021-01-23T19:52:54.274202Z",
     "iopub.status.idle": "2021-01-23T19:52:54.568980Z",
     "shell.execute_reply": "2021-01-23T19:52:54.569797Z"
    },
    "papermill": {
     "duration": 0.333914,
     "end_time": "2021-01-23T19:52:54.570016",
     "exception": false,
     "start_time": "2021-01-23T19:52:54.236102",
     "status": "completed"
    },
    "tags": []
   },
   "outputs": [
    {
     "data": {
      "text/plain": [
       "<matplotlib.axes._subplots.AxesSubplot at 0x7f98e8c64350>"
      ]
     },
     "execution_count": 13,
     "metadata": {},
     "output_type": "execute_result"
    },
    {
     "data": {
      "image/png": "[encoded data removed]",
      "text/plain": [
       "<Figure size 432x288 with 1 Axes>"
      ]
     },
     "metadata": {
      "needs_background": "light"
     },
     "output_type": "display_data"
    }
   ],
   "source": [
    "df['Number of Reviews'].hist()"
   ]
  },
  {
   "cell_type": "code",
   "execution_count": 14,
   "metadata": {
    "execution": {
     "iopub.execute_input": "2021-01-23T19:52:54.686575Z",
     "iopub.status.busy": "2021-01-23T19:52:54.685770Z",
     "iopub.status.idle": "2021-01-23T19:52:54.689844Z",
     "shell.execute_reply": "2021-01-23T19:52:54.689297Z"
    },
    "papermill": {
     "duration": 0.073458,
     "end_time": "2021-01-23T19:52:54.689963",
     "exception": false,
     "start_time": "2021-01-23T19:52:54.616505",
     "status": "completed"
    },
    "tags": []
   },
   "outputs": [],
   "source": [
    "# небольшая коррекция очень длинных сообщений\n",
    "df['Number of Reviews']=df['Number of Reviews'].apply(lambda x: x if x<1200 else 1200)"
   ]
  },
  {
   "cell_type": "code",
   "execution_count": 15,
   "metadata": {
    "execution": {
     "iopub.execute_input": "2021-01-23T19:52:54.782248Z",
     "iopub.status.busy": "2021-01-23T19:52:54.778018Z",
     "iopub.status.idle": "2021-01-23T19:52:54.977925Z",
     "shell.execute_reply": "2021-01-23T19:52:54.976850Z"
    },
    "papermill": {
     "duration": 0.247207,
     "end_time": "2021-01-23T19:52:54.978106",
     "exception": false,
     "start_time": "2021-01-23T19:52:54.730899",
     "status": "completed"
    },
    "tags": []
   },
   "outputs": [
    {
     "data": {
      "text/plain": [
       "<matplotlib.axes._subplots.AxesSubplot at 0x7f98e6d99f50>"
      ]
     },
     "execution_count": 15,
     "metadata": {},
     "output_type": "execute_result"
    },
    {
     "data": {
      "image/png": "[encoded data removed]",
      "text/plain": [
       "<Figure size 432x288 with 1 Axes>"
      ]
     },
     "metadata": {
      "needs_background": "light"
     },
     "output_type": "display_data"
    }
   ],
   "source": [
    "# распределение числа отзывов\n",
    "df['Number of Reviews'].hist()"
   ]
  },
  {
   "cell_type": "code",
   "execution_count": 16,
   "metadata": {
    "execution": {
     "iopub.execute_input": "2021-01-23T19:52:55.059264Z",
     "iopub.status.busy": "2021-01-23T19:52:55.058135Z",
     "iopub.status.idle": "2021-01-23T19:52:55.132470Z",
     "shell.execute_reply": "2021-01-23T19:52:55.133094Z"
    },
    "papermill": {
     "duration": 0.116733,
     "end_time": "2021-01-23T19:52:55.133270",
     "exception": false,
     "start_time": "2021-01-23T19:52:55.016537",
     "status": "completed"
    },
    "tags": []
   },
   "outputs": [
    {
     "name": "stdout",
     "output_type": "stream",
     "text": [
      "<class 'pandas.core.frame.DataFrame'>\n",
      "RangeIndex: 50000 entries, 0 to 49999\n",
      "Data columns (total 15 columns):\n",
      " #   Column             Non-Null Count  Dtype  \n",
      "---  ------             --------------  -----  \n",
      " 0   Restaurant_id      50000 non-null  object \n",
      " 1   City               50000 non-null  object \n",
      " 2   Cuisine Style      38410 non-null  object \n",
      " 3   Ranking            50000 non-null  float64\n",
      " 4   Number of Reviews  50000 non-null  float64\n",
      " 5   Reviews            50000 non-null  object \n",
      " 6   URL_TA             50000 non-null  object \n",
      " 7   ID_TA              50000 non-null  object \n",
      " 8   sample             50000 non-null  int64  \n",
      " 9   Rating             50000 non-null  float64\n",
      " 10  kuhn               50000 non-null  int64  \n",
      " 11  tim_1              50000 non-null  object \n",
      " 12  tim_2              50000 non-null  object \n",
      " 13  delta              50000 non-null  object \n",
      " 14  delta_1            50000 non-null  float64\n",
      "dtypes: float64(4), int64(2), object(9)\n",
      "memory usage: 5.7+ MB\n"
     ]
    }
   ],
   "source": [
    "# разные попытки превратить цену в категориальную переменную и потом ее использовать\n",
    "# ничего интересного не дали, поэтому эти данные убираю \n",
    "df=df.drop(['Price Range'],axis=1)\n",
    "df.info()"
   ]
  },
  {
   "cell_type": "code",
   "execution_count": 17,
   "metadata": {
    "execution": {
     "iopub.execute_input": "2021-01-23T19:52:55.227519Z",
     "iopub.status.busy": "2021-01-23T19:52:55.218421Z",
     "iopub.status.idle": "2021-01-23T19:52:55.568148Z",
     "shell.execute_reply": "2021-01-23T19:52:55.567415Z"
    },
    "papermill": {
     "duration": 0.399159,
     "end_time": "2021-01-23T19:52:55.568269",
     "exception": false,
     "start_time": "2021-01-23T19:52:55.169110",
     "status": "completed"
    },
    "tags": []
   },
   "outputs": [],
   "source": [
    "# работаю с городами и полем Ranking - \n",
    "# собираю словарь, где есть название города и максимальное значение Ranking для него\n",
    "# это некая условная \"линейка размерности\" для оценки значения Ranking\n",
    "\n",
    "city = set(df.City)\n",
    "city\n",
    "dict = {}\n",
    "for m in city:\n",
    "    n = str(m)\n",
    "    max_ = df[df.City == m]['Ranking'].max()\n",
    "    dict.setdefault(m,max_)"
   ]
  },
  {
   "cell_type": "code",
   "execution_count": 18,
   "metadata": {
    "execution": {
     "iopub.execute_input": "2021-01-23T19:52:55.648933Z",
     "iopub.status.busy": "2021-01-23T19:52:55.647702Z",
     "iopub.status.idle": "2021-01-23T19:52:55.652931Z",
     "shell.execute_reply": "2021-01-23T19:52:55.652334Z"
    },
    "papermill": {
     "duration": 0.047945,
     "end_time": "2021-01-23T19:52:55.653053",
     "exception": false,
     "start_time": "2021-01-23T19:52:55.605108",
     "status": "completed"
    },
    "tags": []
   },
   "outputs": [
    {
     "data": {
      "text/plain": [
       "{'Brussels': 3006.0,\n",
       " 'Lyon': 2666.0,\n",
       " 'Ljubljana': 468.0,\n",
       " 'Oslo': 1137.0,\n",
       " 'Budapest': 2440.0,\n",
       " 'Milan': 6275.0,\n",
       " 'Prague': 4188.0,\n",
       " 'Athens': 1787.0,\n",
       " 'London': 16444.0,\n",
       " 'Luxembourg': 621.0,\n",
       " 'Dublin': 1960.0,\n",
       " 'Copenhagen': 1964.0,\n",
       " 'Madrid': 8809.0,\n",
       " 'Stockholm': 2464.0,\n",
       " 'Hamburg': 2737.0,\n",
       " 'Oporto': 1484.0,\n",
       " 'Barcelona': 7796.0,\n",
       " 'Munich': 2763.0,\n",
       " 'Warsaw': 2154.0,\n",
       " 'Krakow': 1244.0,\n",
       " 'Geneva': 1413.0,\n",
       " 'Rome': 5948.0,\n",
       " 'Lisbon': 3717.0,\n",
       " 'Vienna': 3444.0,\n",
       " 'Berlin': 6372.0,\n",
       " 'Edinburgh': 1766.0,\n",
       " 'Bratislava': 889.0,\n",
       " 'Paris': 13986.0,\n",
       " 'Amsterdam': 3254.0,\n",
       " 'Zurich': 1601.0,\n",
       " 'Helsinki': 1141.0}"
      ]
     },
     "execution_count": 18,
     "metadata": {},
     "output_type": "execute_result"
    }
   ],
   "source": [
    "# города и номер самого последнего в рейтинге ресторана - линейка для дальнейшего нормирования\n",
    "\n",
    "dict"
   ]
  },
  {
   "cell_type": "code",
   "execution_count": 19,
   "metadata": {
    "execution": {
     "iopub.execute_input": "2021-01-23T19:52:55.740113Z",
     "iopub.status.busy": "2021-01-23T19:52:55.738020Z",
     "iopub.status.idle": "2021-01-23T19:52:55.952308Z",
     "shell.execute_reply": "2021-01-23T19:52:55.951653Z"
    },
    "papermill": {
     "duration": 0.263441,
     "end_time": "2021-01-23T19:52:55.952423",
     "exception": false,
     "start_time": "2021-01-23T19:52:55.688982",
     "status": "completed"
    },
    "tags": []
   },
   "outputs": [
    {
     "data": {
      "text/html": [
       "<div>\n",
       "<style scoped>\n",
       "    .dataframe tbody tr th:only-of-type {\n",
       "        vertical-align: middle;\n",
       "    }\n",
       "\n",
       "    .dataframe tbody tr th {\n",
       "        vertical-align: top;\n",
       "    }\n",
       "\n",
       "    .dataframe thead th {\n",
       "        text-align: right;\n",
       "    }\n",
       "</style>\n",
       "<table border=\"1\" class=\"dataframe\">\n",
       "  <thead>\n",
       "    <tr style=\"text-align: right;\">\n",
       "      <th></th>\n",
       "      <th>Restaurant_id</th>\n",
       "      <th>City</th>\n",
       "      <th>Cuisine Style</th>\n",
       "      <th>Ranking</th>\n",
       "      <th>Number of Reviews</th>\n",
       "      <th>Reviews</th>\n",
       "      <th>URL_TA</th>\n",
       "      <th>ID_TA</th>\n",
       "      <th>sample</th>\n",
       "      <th>Rating</th>\n",
       "      <th>kuhn</th>\n",
       "      <th>tim_1</th>\n",
       "      <th>tim_2</th>\n",
       "      <th>delta</th>\n",
       "      <th>delta_1</th>\n",
       "      <th>City1</th>\n",
       "      <th>Rank2</th>\n",
       "    </tr>\n",
       "  </thead>\n",
       "  <tbody>\n",
       "    <tr>\n",
       "      <th>0</th>\n",
       "      <td>id_0</td>\n",
       "      <td>Paris</td>\n",
       "      <td>['Bar', 'Pub']</td>\n",
       "      <td>12963.0</td>\n",
       "      <td>4.0</td>\n",
       "      <td>[[], []]</td>\n",
       "      <td>/Restaurant_Review-g187147-d10746918-Reviews-L...</td>\n",
       "      <td>d10746918</td>\n",
       "      <td>0</td>\n",
       "      <td>0.0</td>\n",
       "      <td>2</td>\n",
       "      <td>0</td>\n",
       "      <td>0</td>\n",
       "      <td>0</td>\n",
       "      <td>0.0</td>\n",
       "      <td>13986.0</td>\n",
       "      <td>92.7</td>\n",
       "    </tr>\n",
       "    <tr>\n",
       "      <th>1</th>\n",
       "      <td>id_1</td>\n",
       "      <td>Helsinki</td>\n",
       "      <td>['European', 'Scandinavian', 'Gluten Free Opti...</td>\n",
       "      <td>106.0</td>\n",
       "      <td>97.0</td>\n",
       "      <td>[['Very good reviews!', 'Fine dining in Hakani...</td>\n",
       "      <td>/Restaurant_Review-g189934-d6674944-Reviews-Ra...</td>\n",
       "      <td>d6674944</td>\n",
       "      <td>0</td>\n",
       "      <td>0.0</td>\n",
       "      <td>5</td>\n",
       "      <td>2017-12-05 00:00:00</td>\n",
       "      <td>2017-10-29 00:00:00</td>\n",
       "      <td>37 days, 0:00:00</td>\n",
       "      <td>37.0</td>\n",
       "      <td>1141.0</td>\n",
       "      <td>9.3</td>\n",
       "    </tr>\n",
       "    <tr>\n",
       "      <th>2</th>\n",
       "      <td>id_2</td>\n",
       "      <td>Edinburgh</td>\n",
       "      <td>['Vegetarian Friendly']</td>\n",
       "      <td>810.0</td>\n",
       "      <td>28.0</td>\n",
       "      <td>[['Better than the Links', 'Ivy Black'], ['12/...</td>\n",
       "      <td>/Restaurant_Review-g186525-d13129638-Reviews-B...</td>\n",
       "      <td>d13129638</td>\n",
       "      <td>0</td>\n",
       "      <td>0.0</td>\n",
       "      <td>1</td>\n",
       "      <td>2017-12-28 00:00:00</td>\n",
       "      <td>2017-12-06 00:00:00</td>\n",
       "      <td>22 days, 0:00:00</td>\n",
       "      <td>22.0</td>\n",
       "      <td>1766.0</td>\n",
       "      <td>45.9</td>\n",
       "    </tr>\n",
       "    <tr>\n",
       "      <th>3</th>\n",
       "      <td>id_3</td>\n",
       "      <td>London</td>\n",
       "      <td>['Italian', 'Mediterranean', 'European', 'Vege...</td>\n",
       "      <td>1669.0</td>\n",
       "      <td>202.0</td>\n",
       "      <td>[['Most exquisite', 'Delicious and authentic']...</td>\n",
       "      <td>/Restaurant_Review-g186338-d680417-Reviews-Qui...</td>\n",
       "      <td>d680417</td>\n",
       "      <td>0</td>\n",
       "      <td>0.0</td>\n",
       "      <td>5</td>\n",
       "      <td>2017-12-06 00:00:00</td>\n",
       "      <td>2017-11-22 00:00:00</td>\n",
       "      <td>14 days, 0:00:00</td>\n",
       "      <td>14.0</td>\n",
       "      <td>16444.0</td>\n",
       "      <td>10.1</td>\n",
       "    </tr>\n",
       "    <tr>\n",
       "      <th>4</th>\n",
       "      <td>id_4</td>\n",
       "      <td>Bratislava</td>\n",
       "      <td>['Italian', 'Mediterranean', 'European', 'Seaf...</td>\n",
       "      <td>37.0</td>\n",
       "      <td>162.0</td>\n",
       "      <td>[['Always the best in bratislava', 'Very good ...</td>\n",
       "      <td>/Restaurant_Review-g274924-d1112354-Reviews-Ma...</td>\n",
       "      <td>d1112354</td>\n",
       "      <td>0</td>\n",
       "      <td>0.0</td>\n",
       "      <td>6</td>\n",
       "      <td>2018-02-08 00:00:00</td>\n",
       "      <td>2018-01-24 00:00:00</td>\n",
       "      <td>15 days, 0:00:00</td>\n",
       "      <td>15.0</td>\n",
       "      <td>889.0</td>\n",
       "      <td>4.2</td>\n",
       "    </tr>\n",
       "  </tbody>\n",
       "</table>\n",
       "</div>"
      ],
      "text/plain": [
       "  Restaurant_id        City  \\\n",
       "0          id_0       Paris   \n",
       "1          id_1    Helsinki   \n",
       "2          id_2   Edinburgh   \n",
       "3          id_3      London   \n",
       "4          id_4  Bratislava   \n",
       "\n",
       "                                       Cuisine Style  Ranking  \\\n",
       "0                                     ['Bar', 'Pub']  12963.0   \n",
       "1  ['European', 'Scandinavian', 'Gluten Free Opti...    106.0   \n",
       "2                            ['Vegetarian Friendly']    810.0   \n",
       "3  ['Italian', 'Mediterranean', 'European', 'Vege...   1669.0   \n",
       "4  ['Italian', 'Mediterranean', 'European', 'Seaf...     37.0   \n",
       "\n",
       "   Number of Reviews                                            Reviews  \\\n",
       "0                4.0                                           [[], []]   \n",
       "1               97.0  [['Very good reviews!', 'Fine dining in Hakani...   \n",
       "2               28.0  [['Better than the Links', 'Ivy Black'], ['12/...   \n",
       "3              202.0  [['Most exquisite', 'Delicious and authentic']...   \n",
       "4              162.0  [['Always the best in bratislava', 'Very good ...   \n",
       "\n",
       "                                              URL_TA      ID_TA  sample  \\\n",
       "0  /Restaurant_Review-g187147-d10746918-Reviews-L...  d10746918       0   \n",
       "1  /Restaurant_Review-g189934-d6674944-Reviews-Ra...   d6674944       0   \n",
       "2  /Restaurant_Review-g186525-d13129638-Reviews-B...  d13129638       0   \n",
       "3  /Restaurant_Review-g186338-d680417-Reviews-Qui...    d680417       0   \n",
       "4  /Restaurant_Review-g274924-d1112354-Reviews-Ma...   d1112354       0   \n",
       "\n",
       "   Rating  kuhn                tim_1                tim_2             delta  \\\n",
       "0     0.0     2                    0                    0                 0   \n",
       "1     0.0     5  2017-12-05 00:00:00  2017-10-29 00:00:00  37 days, 0:00:00   \n",
       "2     0.0     1  2017-12-28 00:00:00  2017-12-06 00:00:00  22 days, 0:00:00   \n",
       "3     0.0     5  2017-12-06 00:00:00  2017-11-22 00:00:00  14 days, 0:00:00   \n",
       "4     0.0     6  2018-02-08 00:00:00  2018-01-24 00:00:00  15 days, 0:00:00   \n",
       "\n",
       "   delta_1    City1  Rank2  \n",
       "0      0.0  13986.0   92.7  \n",
       "1     37.0   1141.0    9.3  \n",
       "2     22.0   1766.0   45.9  \n",
       "3     14.0  16444.0   10.1  \n",
       "4     15.0    889.0    4.2  "
      ]
     },
     "execution_count": 19,
     "metadata": {},
     "output_type": "execute_result"
    }
   ],
   "source": [
    "# новый признак Rank2 по работе с рейтингами - пересчет рейтинга исходя из того, \n",
    "# какое он место занимает среди ресторанов своего города\n",
    "\n",
    "df['City1'] = df['City']\n",
    "df['City1'] = df['City1'].replace(to_replace = dict)\n",
    "df.head()\n",
    "df['Rank2'] = round(df['Ranking']/df['City1']*100,1)\n",
    "df.head()"
   ]
  },
  {
   "cell_type": "code",
   "execution_count": 20,
   "metadata": {
    "execution": {
     "iopub.execute_input": "2021-01-23T19:52:56.040913Z",
     "iopub.status.busy": "2021-01-23T19:52:56.040157Z",
     "iopub.status.idle": "2021-01-23T19:52:56.056583Z",
     "shell.execute_reply": "2021-01-23T19:52:56.055795Z"
    },
    "papermill": {
     "duration": 0.067294,
     "end_time": "2021-01-23T19:52:56.056746",
     "exception": false,
     "start_time": "2021-01-23T19:52:55.989452",
     "status": "completed"
    },
    "tags": []
   },
   "outputs": [
    {
     "data": {
      "text/plain": [
       "Rating\n",
       "0.0     876.418919\n",
       "1.0    1787.000000\n",
       "1.5    1771.000000\n",
       "2.0    1767.000000\n",
       "2.5    1754.750000\n",
       "3.0    1641.777778\n",
       "3.5    1299.830986\n",
       "4.0     901.725888\n",
       "4.5     652.568465\n",
       "5.0     886.838710\n",
       "Name: Ranking, dtype: float64"
      ]
     },
     "execution_count": 20,
     "metadata": {},
     "output_type": "execute_result"
    }
   ],
   "source": [
    "df[df.City=='Athens'].groupby(['Rating'])['Ranking'].mean()"
   ]
  },
  {
   "cell_type": "code",
   "execution_count": 21,
   "metadata": {
    "execution": {
     "iopub.execute_input": "2021-01-23T19:52:56.147518Z",
     "iopub.status.busy": "2021-01-23T19:52:56.144613Z",
     "iopub.status.idle": "2021-01-23T19:52:56.340556Z",
     "shell.execute_reply": "2021-01-23T19:52:56.339999Z"
    },
    "papermill": {
     "duration": 0.246358,
     "end_time": "2021-01-23T19:52:56.340677",
     "exception": false,
     "start_time": "2021-01-23T19:52:56.094319",
     "status": "completed"
    },
    "tags": []
   },
   "outputs": [
    {
     "data": {
      "text/plain": [
       "<matplotlib.axes._subplots.AxesSubplot at 0x7f98e6d7f090>"
      ]
     },
     "execution_count": 21,
     "metadata": {},
     "output_type": "execute_result"
    },
    {
     "data": {
      "image/png": "[encoded data removed]",
      "text/plain": [
       "<Figure size 432x288 with 1 Axes>"
      ]
     },
     "metadata": {
      "needs_background": "light"
     },
     "output_type": "display_data"
    }
   ],
   "source": [
    "# выборочно смотрим, как распределены рестораны внутри Ranking - распределение хорошее\n",
    "# здесь распределение на примере города Афины\n",
    "\n",
    "df[df.City=='Athens']['Ranking'].hist()"
   ]
  },
  {
   "cell_type": "code",
   "execution_count": 22,
   "metadata": {
    "execution": {
     "iopub.execute_input": "2021-01-23T19:52:56.433581Z",
     "iopub.status.busy": "2021-01-23T19:52:56.432619Z",
     "iopub.status.idle": "2021-01-23T19:52:56.445876Z",
     "shell.execute_reply": "2021-01-23T19:52:56.446427Z"
    },
    "papermill": {
     "duration": 0.067539,
     "end_time": "2021-01-23T19:52:56.446592",
     "exception": false,
     "start_time": "2021-01-23T19:52:56.379053",
     "status": "completed"
    },
    "tags": []
   },
   "outputs": [
    {
     "data": {
      "text/plain": [
       "Rating\n",
       "0.0     6960.980182\n",
       "1.0    13945.916667\n",
       "1.5    13851.222222\n",
       "2.0    13683.711864\n",
       "2.5    13341.853659\n",
       "3.0    12224.257075\n",
       "3.5     8714.340045\n",
       "4.0     5859.059870\n",
       "4.5     4504.664898\n",
       "5.0     6071.510029\n",
       "Name: Ranking, dtype: float64"
      ]
     },
     "execution_count": 22,
     "metadata": {},
     "output_type": "execute_result"
    }
   ],
   "source": [
    "# аналогично по городу Парижу\n",
    "\n",
    "df[df.City=='Paris'].groupby(['Rating'])['Ranking'].mean()"
   ]
  },
  {
   "cell_type": "code",
   "execution_count": 23,
   "metadata": {
    "execution": {
     "iopub.execute_input": "2021-01-23T19:52:56.538088Z",
     "iopub.status.busy": "2021-01-23T19:52:56.537280Z",
     "iopub.status.idle": "2021-01-23T19:52:56.738708Z",
     "shell.execute_reply": "2021-01-23T19:52:56.737965Z"
    },
    "papermill": {
     "duration": 0.253404,
     "end_time": "2021-01-23T19:52:56.738863",
     "exception": false,
     "start_time": "2021-01-23T19:52:56.485459",
     "status": "completed"
    },
    "tags": []
   },
   "outputs": [
    {
     "data": {
      "text/plain": [
       "<matplotlib.axes._subplots.AxesSubplot at 0x7f98e5f0fed0>"
      ]
     },
     "execution_count": 23,
     "metadata": {},
     "output_type": "execute_result"
    },
    {
     "data": {
      "image/png": "[encoded data removed]",
      "text/plain": [
       "<Figure size 432x288 with 1 Axes>"
      ]
     },
     "metadata": {
      "needs_background": "light"
     },
     "output_type": "display_data"
    }
   ],
   "source": [
    "df[df.City=='Paris']['Ranking'].hist()"
   ]
  },
  {
   "cell_type": "code",
   "execution_count": 24,
   "metadata": {
    "execution": {
     "iopub.execute_input": "2021-01-23T19:52:56.837588Z",
     "iopub.status.busy": "2021-01-23T19:52:56.836878Z",
     "iopub.status.idle": "2021-01-23T19:52:57.038167Z",
     "shell.execute_reply": "2021-01-23T19:52:57.037544Z"
    },
    "papermill": {
     "duration": 0.255435,
     "end_time": "2021-01-23T19:52:57.038291",
     "exception": false,
     "start_time": "2021-01-23T19:52:56.782856",
     "status": "completed"
    },
    "tags": []
   },
   "outputs": [
    {
     "data": {
      "text/plain": [
       "<matplotlib.axes._subplots.AxesSubplot at 0x7f98e5ea0d50>"
      ]
     },
     "execution_count": 24,
     "metadata": {},
     "output_type": "execute_result"
    },
    {
     "data": {
      "image/png": "[encoded data removed]",
      "text/plain": [
       "<Figure size 432x288 with 1 Axes>"
      ]
     },
     "metadata": {
      "needs_background": "light"
     },
     "output_type": "display_data"
    }
   ],
   "source": [
    "# распределение оценки Rating в городе Парижа -\n",
    "# распределение понятное, т.к. в данных df_test в столбце стоит 0\n",
    "\n",
    "df[df.City=='Paris']['Rating'].hist()"
   ]
  },
  {
   "cell_type": "markdown",
   "metadata": {
    "papermill": {
     "duration": 0.041577,
     "end_time": "2021-01-23T19:52:57.122216",
     "exception": false,
     "start_time": "2021-01-23T19:52:57.080639",
     "status": "completed"
    },
    "tags": []
   },
   "source": [
    "# Разбиваем датафрейм на части, необходимые для обучения и тестирования модели"
   ]
  },
  {
   "cell_type": "code",
   "execution_count": 25,
   "metadata": {
    "execution": {
     "iopub.execute_input": "2021-01-23T19:52:57.216838Z",
     "iopub.status.busy": "2021-01-23T19:52:57.211380Z",
     "iopub.status.idle": "2021-01-23T19:52:57.247224Z",
     "shell.execute_reply": "2021-01-23T19:52:57.247728Z"
    },
    "papermill": {
     "duration": 0.08371,
     "end_time": "2021-01-23T19:52:57.247890",
     "exception": false,
     "start_time": "2021-01-23T19:52:57.164180",
     "status": "completed"
    },
    "tags": []
   },
   "outputs": [],
   "source": [
    "df_train=df.query('sample == 1').drop(['sample'], axis=1)\n",
    "df_test=df.query('sample == 0').drop(['sample'], axis=1)"
   ]
  },
  {
   "cell_type": "code",
   "execution_count": 26,
   "metadata": {
    "execution": {
     "iopub.execute_input": "2021-01-23T19:52:57.339314Z",
     "iopub.status.busy": "2021-01-23T19:52:57.338330Z",
     "iopub.status.idle": "2021-01-23T19:52:57.342128Z",
     "shell.execute_reply": "2021-01-23T19:52:57.341524Z"
    },
    "papermill": {
     "duration": 0.052549,
     "end_time": "2021-01-23T19:52:57.342247",
     "exception": false,
     "start_time": "2021-01-23T19:52:57.289698",
     "status": "completed"
    },
    "tags": []
   },
   "outputs": [],
   "source": [
    "# Х - данные с информацией о ресторанах, у - целевая переменная (рейтинги ресторанов)\n",
    "\n",
    "X = df_train[['Rank2','Number of Reviews','delta_1','kuhn']]\n",
    "y = df_train['Rating']"
   ]
  },
  {
   "cell_type": "code",
   "execution_count": 27,
   "metadata": {
    "execution": {
     "iopub.execute_input": "2021-01-23T19:52:57.442436Z",
     "iopub.status.busy": "2021-01-23T19:52:57.441748Z",
     "iopub.status.idle": "2021-01-23T19:52:57.447824Z",
     "shell.execute_reply": "2021-01-23T19:52:57.446769Z"
    },
    "papermill": {
     "duration": 0.064445,
     "end_time": "2021-01-23T19:52:57.448007",
     "exception": false,
     "start_time": "2021-01-23T19:52:57.383562",
     "status": "completed"
    },
    "tags": []
   },
   "outputs": [
    {
     "data": {
      "text/html": [
       "<div>\n",
       "<style scoped>\n",
       "    .dataframe tbody tr th:only-of-type {\n",
       "        vertical-align: middle;\n",
       "    }\n",
       "\n",
       "    .dataframe tbody tr th {\n",
       "        vertical-align: top;\n",
       "    }\n",
       "\n",
       "    .dataframe thead th {\n",
       "        text-align: right;\n",
       "    }\n",
       "</style>\n",
       "<table border=\"1\" class=\"dataframe\">\n",
       "  <thead>\n",
       "    <tr style=\"text-align: right;\">\n",
       "      <th></th>\n",
       "      <th>Rank2</th>\n",
       "      <th>Number of Reviews</th>\n",
       "      <th>delta_1</th>\n",
       "      <th>kuhn</th>\n",
       "    </tr>\n",
       "  </thead>\n",
       "  <tbody>\n",
       "    <tr>\n",
       "      <th>10000</th>\n",
       "      <td>39.8</td>\n",
       "      <td>194.0</td>\n",
       "      <td>41.0</td>\n",
       "      <td>3</td>\n",
       "    </tr>\n",
       "    <tr>\n",
       "      <th>10001</th>\n",
       "      <td>62.4</td>\n",
       "      <td>10.0</td>\n",
       "      <td>382.0</td>\n",
       "      <td>1</td>\n",
       "    </tr>\n",
       "    <tr>\n",
       "      <th>10002</th>\n",
       "      <td>2.1</td>\n",
       "      <td>688.0</td>\n",
       "      <td>2.0</td>\n",
       "      <td>7</td>\n",
       "    </tr>\n",
       "    <tr>\n",
       "      <th>10003</th>\n",
       "      <td>54.3</td>\n",
       "      <td>3.0</td>\n",
       "      <td>0.0</td>\n",
       "      <td>1</td>\n",
       "    </tr>\n",
       "    <tr>\n",
       "      <th>10004</th>\n",
       "      <td>22.5</td>\n",
       "      <td>84.0</td>\n",
       "      <td>272.0</td>\n",
       "      <td>3</td>\n",
       "    </tr>\n",
       "    <tr>\n",
       "      <th>...</th>\n",
       "      <td>...</td>\n",
       "      <td>...</td>\n",
       "      <td>...</td>\n",
       "      <td>...</td>\n",
       "    </tr>\n",
       "    <tr>\n",
       "      <th>49995</th>\n",
       "      <td>8.0</td>\n",
       "      <td>79.0</td>\n",
       "      <td>34.0</td>\n",
       "      <td>4</td>\n",
       "    </tr>\n",
       "    <tr>\n",
       "      <th>49996</th>\n",
       "      <td>45.3</td>\n",
       "      <td>542.0</td>\n",
       "      <td>9.0</td>\n",
       "      <td>5</td>\n",
       "    </tr>\n",
       "    <tr>\n",
       "      <th>49997</th>\n",
       "      <td>67.0</td>\n",
       "      <td>4.0</td>\n",
       "      <td>3127.0</td>\n",
       "      <td>2</td>\n",
       "    </tr>\n",
       "    <tr>\n",
       "      <th>49998</th>\n",
       "      <td>29.8</td>\n",
       "      <td>70.0</td>\n",
       "      <td>23.0</td>\n",
       "      <td>5</td>\n",
       "    </tr>\n",
       "    <tr>\n",
       "      <th>49999</th>\n",
       "      <td>76.9</td>\n",
       "      <td>260.0</td>\n",
       "      <td>1306.0</td>\n",
       "      <td>1</td>\n",
       "    </tr>\n",
       "  </tbody>\n",
       "</table>\n",
       "<p>40000 rows × 4 columns</p>\n",
       "</div>"
      ],
      "text/plain": [
       "       Rank2  Number of Reviews  delta_1  kuhn\n",
       "10000   39.8              194.0     41.0     3\n",
       "10001   62.4               10.0    382.0     1\n",
       "10002    2.1              688.0      2.0     7\n",
       "10003   54.3                3.0      0.0     1\n",
       "10004   22.5               84.0    272.0     3\n",
       "...      ...                ...      ...   ...\n",
       "49995    8.0               79.0     34.0     4\n",
       "49996   45.3              542.0      9.0     5\n",
       "49997   67.0                4.0   3127.0     2\n",
       "49998   29.8               70.0     23.0     5\n",
       "49999   76.9              260.0   1306.0     1\n",
       "\n",
       "[40000 rows x 4 columns]"
      ]
     },
     "execution_count": 27,
     "metadata": {},
     "output_type": "execute_result"
    }
   ],
   "source": [
    "X"
   ]
  },
  {
   "cell_type": "code",
   "execution_count": 28,
   "metadata": {
    "execution": {
     "iopub.execute_input": "2021-01-23T19:52:57.544974Z",
     "iopub.status.busy": "2021-01-23T19:52:57.544134Z",
     "iopub.status.idle": "2021-01-23T19:52:57.558250Z",
     "shell.execute_reply": "2021-01-23T19:52:57.558761Z"
    },
    "papermill": {
     "duration": 0.065982,
     "end_time": "2021-01-23T19:52:57.558920",
     "exception": false,
     "start_time": "2021-01-23T19:52:57.492938",
     "status": "completed"
    },
    "tags": []
   },
   "outputs": [
    {
     "data": {
      "text/html": [
       "<div>\n",
       "<style scoped>\n",
       "    .dataframe tbody tr th:only-of-type {\n",
       "        vertical-align: middle;\n",
       "    }\n",
       "\n",
       "    .dataframe tbody tr th {\n",
       "        vertical-align: top;\n",
       "    }\n",
       "\n",
       "    .dataframe thead th {\n",
       "        text-align: right;\n",
       "    }\n",
       "</style>\n",
       "<table border=\"1\" class=\"dataframe\">\n",
       "  <thead>\n",
       "    <tr style=\"text-align: right;\">\n",
       "      <th></th>\n",
       "      <th>Rank2</th>\n",
       "      <th>Number of Reviews</th>\n",
       "      <th>delta_1</th>\n",
       "      <th>kuhn</th>\n",
       "    </tr>\n",
       "  </thead>\n",
       "  <tbody>\n",
       "    <tr>\n",
       "      <th>Rank2</th>\n",
       "      <td>1.000000</td>\n",
       "      <td>-0.127304</td>\n",
       "      <td>0.099745</td>\n",
       "      <td>-0.541132</td>\n",
       "    </tr>\n",
       "    <tr>\n",
       "      <th>Number of Reviews</th>\n",
       "      <td>-0.127304</td>\n",
       "      <td>1.000000</td>\n",
       "      <td>-0.158222</td>\n",
       "      <td>0.155744</td>\n",
       "    </tr>\n",
       "    <tr>\n",
       "      <th>delta_1</th>\n",
       "      <td>0.099745</td>\n",
       "      <td>-0.158222</td>\n",
       "      <td>1.000000</td>\n",
       "      <td>-0.124601</td>\n",
       "    </tr>\n",
       "    <tr>\n",
       "      <th>kuhn</th>\n",
       "      <td>-0.541132</td>\n",
       "      <td>0.155744</td>\n",
       "      <td>-0.124601</td>\n",
       "      <td>1.000000</td>\n",
       "    </tr>\n",
       "  </tbody>\n",
       "</table>\n",
       "</div>"
      ],
      "text/plain": [
       "                      Rank2  Number of Reviews   delta_1      kuhn\n",
       "Rank2              1.000000          -0.127304  0.099745 -0.541132\n",
       "Number of Reviews -0.127304           1.000000 -0.158222  0.155744\n",
       "delta_1            0.099745          -0.158222  1.000000 -0.124601\n",
       "kuhn              -0.541132           0.155744 -0.124601  1.000000"
      ]
     },
     "execution_count": 28,
     "metadata": {},
     "output_type": "execute_result"
    }
   ],
   "source": [
    "X.corr()"
   ]
  },
  {
   "cell_type": "code",
   "execution_count": 29,
   "metadata": {
    "execution": {
     "iopub.execute_input": "2021-01-23T19:52:57.649864Z",
     "iopub.status.busy": "2021-01-23T19:52:57.649116Z",
     "iopub.status.idle": "2021-01-23T19:52:57.663626Z",
     "shell.execute_reply": "2021-01-23T19:52:57.662803Z"
    },
    "papermill": {
     "duration": 0.062166,
     "end_time": "2021-01-23T19:52:57.663929",
     "exception": false,
     "start_time": "2021-01-23T19:52:57.601763",
     "status": "completed"
    },
    "tags": []
   },
   "outputs": [
    {
     "data": {
      "text/html": [
       "<div>\n",
       "<style scoped>\n",
       "    .dataframe tbody tr th:only-of-type {\n",
       "        vertical-align: middle;\n",
       "    }\n",
       "\n",
       "    .dataframe tbody tr th {\n",
       "        vertical-align: top;\n",
       "    }\n",
       "\n",
       "    .dataframe thead th {\n",
       "        text-align: right;\n",
       "    }\n",
       "</style>\n",
       "<table border=\"1\" class=\"dataframe\">\n",
       "  <thead>\n",
       "    <tr style=\"text-align: right;\">\n",
       "      <th></th>\n",
       "      <th>Rank2</th>\n",
       "      <th>Number of Reviews</th>\n",
       "      <th>delta_1</th>\n",
       "      <th>kuhn</th>\n",
       "    </tr>\n",
       "  </thead>\n",
       "  <tbody>\n",
       "    <tr>\n",
       "      <th>Rank2</th>\n",
       "      <td>1.000000</td>\n",
       "      <td>-0.127304</td>\n",
       "      <td>0.099745</td>\n",
       "      <td>-0.541132</td>\n",
       "    </tr>\n",
       "    <tr>\n",
       "      <th>Number of Reviews</th>\n",
       "      <td>-0.127304</td>\n",
       "      <td>1.000000</td>\n",
       "      <td>-0.158222</td>\n",
       "      <td>0.155744</td>\n",
       "    </tr>\n",
       "    <tr>\n",
       "      <th>delta_1</th>\n",
       "      <td>0.099745</td>\n",
       "      <td>-0.158222</td>\n",
       "      <td>1.000000</td>\n",
       "      <td>-0.124601</td>\n",
       "    </tr>\n",
       "    <tr>\n",
       "      <th>kuhn</th>\n",
       "      <td>-0.541132</td>\n",
       "      <td>0.155744</td>\n",
       "      <td>-0.124601</td>\n",
       "      <td>1.000000</td>\n",
       "    </tr>\n",
       "  </tbody>\n",
       "</table>\n",
       "</div>"
      ],
      "text/plain": [
       "                      Rank2  Number of Reviews   delta_1      kuhn\n",
       "Rank2              1.000000          -0.127304  0.099745 -0.541132\n",
       "Number of Reviews -0.127304           1.000000 -0.158222  0.155744\n",
       "delta_1            0.099745          -0.158222  1.000000 -0.124601\n",
       "kuhn              -0.541132           0.155744 -0.124601  1.000000"
      ]
     },
     "execution_count": 29,
     "metadata": {},
     "output_type": "execute_result"
    }
   ],
   "source": [
    "# Таблица корреляций между показателями\n",
    "X.corr()"
   ]
  },
  {
   "cell_type": "markdown",
   "metadata": {
    "papermill": {
     "duration": 0.043431,
     "end_time": "2021-01-23T19:52:57.755833",
     "exception": false,
     "start_time": "2021-01-23T19:52:57.712402",
     "status": "completed"
    },
    "tags": []
   },
   "source": [
    "# Создаём, обучаем и тестируем модель"
   ]
  },
  {
   "cell_type": "code",
   "execution_count": 30,
   "metadata": {
    "execution": {
     "iopub.execute_input": "2021-01-23T19:52:57.847472Z",
     "iopub.status.busy": "2021-01-23T19:52:57.846793Z",
     "iopub.status.idle": "2021-01-23T19:52:57.856914Z",
     "shell.execute_reply": "2021-01-23T19:52:57.857496Z"
    },
    "papermill": {
     "duration": 0.057679,
     "end_time": "2021-01-23T19:52:57.857648",
     "exception": false,
     "start_time": "2021-01-23T19:52:57.799969",
     "status": "completed"
    },
    "tags": []
   },
   "outputs": [],
   "source": [
    "# Наборы данных с меткой \"train\" будут использоваться для обучения модели, \"test\" - для тестирования.\n",
    "# Для тестирования мы будем использовать 25% от исходного датасета.\n",
    "X_train, X_test, y_train, y_test = train_test_split(X, y, test_size=0.25, random_state=RANDOM_SEED)"
   ]
  },
  {
   "cell_type": "code",
   "execution_count": 31,
   "metadata": {
    "execution": {
     "iopub.execute_input": "2021-01-23T19:52:57.949037Z",
     "iopub.status.busy": "2021-01-23T19:52:57.948324Z",
     "iopub.status.idle": "2021-01-23T19:53:01.038866Z",
     "shell.execute_reply": "2021-01-23T19:53:01.039635Z"
    },
    "papermill": {
     "duration": 3.137616,
     "end_time": "2021-01-23T19:53:01.039837",
     "exception": false,
     "start_time": "2021-01-23T19:52:57.902221",
     "status": "completed"
    },
    "tags": []
   },
   "outputs": [
    {
     "name": "stderr",
     "output_type": "stream",
     "text": [
      "[Parallel(n_jobs=-1)]: Using backend ThreadingBackend with 4 concurrent workers.\n",
      "[Parallel(n_jobs=-1)]: Done  42 tasks      | elapsed:    1.3s\n",
      "[Parallel(n_jobs=-1)]: Done 100 out of 100 | elapsed:    2.9s finished\n",
      "[Parallel(n_jobs=4)]: Using backend ThreadingBackend with 4 concurrent workers.\n",
      "[Parallel(n_jobs=4)]: Done  42 tasks      | elapsed:    0.0s\n",
      "[Parallel(n_jobs=4)]: Done 100 out of 100 | elapsed:    0.1s finished\n"
     ]
    }
   ],
   "source": [
    "# Создаём модель\n",
    "regr = RandomForestRegressor(n_estimators=100, verbose=1, n_jobs=-1, random_state=RANDOM_SEED)\n",
    "\n",
    "# Обучаем модель на тестовом наборе данных\n",
    "regr.fit(X_train, y_train)\n",
    "\n",
    "# Используем обученную модель для предсказания рейтинга ресторанов\n",
    "# Предсказанные значения записываем в переменную y_pred\n",
    "y_pred = regr.predict(X_test)"
   ]
  },
  {
   "cell_type": "code",
   "execution_count": 32,
   "metadata": {
    "execution": {
     "iopub.execute_input": "2021-01-23T19:53:01.137274Z",
     "iopub.status.busy": "2021-01-23T19:53:01.136575Z",
     "iopub.status.idle": "2021-01-23T19:53:01.139919Z",
     "shell.execute_reply": "2021-01-23T19:53:01.140397Z"
    },
    "papermill": {
     "duration": 0.054154,
     "end_time": "2021-01-23T19:53:01.140549",
     "exception": false,
     "start_time": "2021-01-23T19:53:01.086395",
     "status": "completed"
    },
    "tags": []
   },
   "outputs": [
    {
     "data": {
      "text/plain": [
       "array([4.515, 3.62 , 4.37 , ..., 4.405, 3.985, 4.515])"
      ]
     },
     "execution_count": 32,
     "metadata": {},
     "output_type": "execute_result"
    }
   ],
   "source": [
    "y_pred"
   ]
  },
  {
   "cell_type": "code",
   "execution_count": 33,
   "metadata": {
    "execution": {
     "iopub.execute_input": "2021-01-23T19:53:01.234951Z",
     "iopub.status.busy": "2021-01-23T19:53:01.234235Z",
     "iopub.status.idle": "2021-01-23T19:53:01.283986Z",
     "shell.execute_reply": "2021-01-23T19:53:01.284586Z"
    },
    "papermill": {
     "duration": 0.098658,
     "end_time": "2021-01-23T19:53:01.284762",
     "exception": false,
     "start_time": "2021-01-23T19:53:01.186104",
     "status": "completed"
    },
    "tags": []
   },
   "outputs": [],
   "source": [
    "# округляем до 0,5\n",
    "for i in range(len(y_pred)):\n",
    "    y_pred[i] = round(y_pred[i] * 2) / 2"
   ]
  },
  {
   "cell_type": "code",
   "execution_count": 34,
   "metadata": {
    "execution": {
     "iopub.execute_input": "2021-01-23T19:53:01.383826Z",
     "iopub.status.busy": "2021-01-23T19:53:01.383029Z",
     "iopub.status.idle": "2021-01-23T19:53:01.388616Z",
     "shell.execute_reply": "2021-01-23T19:53:01.389184Z"
    },
    "papermill": {
     "duration": 0.059268,
     "end_time": "2021-01-23T19:53:01.389337",
     "exception": false,
     "start_time": "2021-01-23T19:53:01.330069",
     "status": "completed"
    },
    "tags": []
   },
   "outputs": [
    {
     "data": {
      "text/plain": [
       "array([4.5, 3.5, 4.5, ..., 4.5, 4. , 4.5])"
      ]
     },
     "execution_count": 34,
     "metadata": {},
     "output_type": "execute_result"
    }
   ],
   "source": [
    "y_pred"
   ]
  },
  {
   "cell_type": "code",
   "execution_count": 35,
   "metadata": {
    "execution": {
     "iopub.execute_input": "2021-01-23T19:53:01.485482Z",
     "iopub.status.busy": "2021-01-23T19:53:01.484710Z",
     "iopub.status.idle": "2021-01-23T19:53:01.491556Z",
     "shell.execute_reply": "2021-01-23T19:53:01.492172Z"
    },
    "papermill": {
     "duration": 0.05596,
     "end_time": "2021-01-23T19:53:01.492321",
     "exception": false,
     "start_time": "2021-01-23T19:53:01.436361",
     "status": "completed"
    },
    "tags": []
   },
   "outputs": [
    {
     "name": "stdout",
     "output_type": "stream",
     "text": [
      "MAE: 0.23405\n"
     ]
    }
   ],
   "source": [
    "# Сравниваем предсказанные значения (y_pred) с реальными (y_test), и смотрим насколько они в среднем отличаются\n",
    "# Метрика называется Mean Absolute Error (MAE) и показывает среднее отклонение предсказанных значений от фактических.\n",
    "print('MAE:', metrics.mean_absolute_error(y_test, y_pred))"
   ]
  },
  {
   "cell_type": "code",
   "execution_count": 36,
   "metadata": {
    "execution": {
     "iopub.execute_input": "2021-01-23T19:53:01.589389Z",
     "iopub.status.busy": "2021-01-23T19:53:01.588646Z",
     "iopub.status.idle": "2021-01-23T19:53:01.875123Z",
     "shell.execute_reply": "2021-01-23T19:53:01.875708Z"
    },
    "papermill": {
     "duration": 0.336866,
     "end_time": "2021-01-23T19:53:01.875878",
     "exception": false,
     "start_time": "2021-01-23T19:53:01.539012",
     "status": "completed"
    },
    "tags": []
   },
   "outputs": [
    {
     "data": {
      "text/plain": [
       "<matplotlib.axes._subplots.AxesSubplot at 0x7f98e7390790>"
      ]
     },
     "execution_count": 36,
     "metadata": {},
     "output_type": "execute_result"
    },
    {
     "data": {
      "image/png": "[encoded data removed]",
      "text/plain": [
       "<Figure size 720x720 with 1 Axes>"
      ]
     },
     "metadata": {
      "needs_background": "light"
     },
     "output_type": "display_data"
    }
   ],
   "source": [
    "# визуализируем влияние параметров\n",
    "plt.rcParams['figure.figsize'] = (10,10)\n",
    "feat_importances = pd.Series(regr.feature_importances_, index=X.columns)\n",
    "feat_importances.nlargest(15).plot(kind='barh')"
   ]
  },
  {
   "cell_type": "markdown",
   "metadata": {
    "papermill": {
     "duration": 0.048015,
     "end_time": "2021-01-23T19:53:01.972599",
     "exception": false,
     "start_time": "2021-01-23T19:53:01.924584",
     "status": "completed"
    },
    "tags": []
   },
   "source": [
    "# Submission"
   ]
  },
  {
   "cell_type": "code",
   "execution_count": 37,
   "metadata": {
    "execution": {
     "iopub.execute_input": "2021-01-23T19:53:02.086554Z",
     "iopub.status.busy": "2021-01-23T19:53:02.085416Z",
     "iopub.status.idle": "2021-01-23T19:53:02.090181Z",
     "shell.execute_reply": "2021-01-23T19:53:02.089606Z"
    },
    "papermill": {
     "duration": 0.069883,
     "end_time": "2021-01-23T19:53:02.090298",
     "exception": false,
     "start_time": "2021-01-23T19:53:02.020415",
     "status": "completed"
    },
    "tags": []
   },
   "outputs": [
    {
     "data": {
      "text/html": [
       "<div>\n",
       "<style scoped>\n",
       "    .dataframe tbody tr th:only-of-type {\n",
       "        vertical-align: middle;\n",
       "    }\n",
       "\n",
       "    .dataframe tbody tr th {\n",
       "        vertical-align: top;\n",
       "    }\n",
       "\n",
       "    .dataframe thead th {\n",
       "        text-align: right;\n",
       "    }\n",
       "</style>\n",
       "<table border=\"1\" class=\"dataframe\">\n",
       "  <thead>\n",
       "    <tr style=\"text-align: right;\">\n",
       "      <th></th>\n",
       "      <th>Rank2</th>\n",
       "      <th>Number of Reviews</th>\n",
       "      <th>delta_1</th>\n",
       "      <th>kuhn</th>\n",
       "    </tr>\n",
       "  </thead>\n",
       "  <tbody>\n",
       "    <tr>\n",
       "      <th>0</th>\n",
       "      <td>92.7</td>\n",
       "      <td>4.0</td>\n",
       "      <td>0.0</td>\n",
       "      <td>2</td>\n",
       "    </tr>\n",
       "    <tr>\n",
       "      <th>1</th>\n",
       "      <td>9.3</td>\n",
       "      <td>97.0</td>\n",
       "      <td>37.0</td>\n",
       "      <td>5</td>\n",
       "    </tr>\n",
       "    <tr>\n",
       "      <th>2</th>\n",
       "      <td>45.9</td>\n",
       "      <td>28.0</td>\n",
       "      <td>22.0</td>\n",
       "      <td>1</td>\n",
       "    </tr>\n",
       "    <tr>\n",
       "      <th>3</th>\n",
       "      <td>10.1</td>\n",
       "      <td>202.0</td>\n",
       "      <td>14.0</td>\n",
       "      <td>5</td>\n",
       "    </tr>\n",
       "    <tr>\n",
       "      <th>4</th>\n",
       "      <td>4.2</td>\n",
       "      <td>162.0</td>\n",
       "      <td>15.0</td>\n",
       "      <td>6</td>\n",
       "    </tr>\n",
       "    <tr>\n",
       "      <th>...</th>\n",
       "      <td>...</td>\n",
       "      <td>...</td>\n",
       "      <td>...</td>\n",
       "      <td>...</td>\n",
       "    </tr>\n",
       "    <tr>\n",
       "      <th>9995</th>\n",
       "      <td>26.6</td>\n",
       "      <td>28.0</td>\n",
       "      <td>122.0</td>\n",
       "      <td>4</td>\n",
       "    </tr>\n",
       "    <tr>\n",
       "      <th>9996</th>\n",
       "      <td>70.3</td>\n",
       "      <td>2.0</td>\n",
       "      <td>0.0</td>\n",
       "      <td>4</td>\n",
       "    </tr>\n",
       "    <tr>\n",
       "      <th>9997</th>\n",
       "      <td>88.6</td>\n",
       "      <td>2.0</td>\n",
       "      <td>0.0</td>\n",
       "      <td>1</td>\n",
       "    </tr>\n",
       "    <tr>\n",
       "      <th>9998</th>\n",
       "      <td>63.9</td>\n",
       "      <td>2.0</td>\n",
       "      <td>0.0</td>\n",
       "      <td>1</td>\n",
       "    </tr>\n",
       "    <tr>\n",
       "      <th>9999</th>\n",
       "      <td>48.6</td>\n",
       "      <td>14.0</td>\n",
       "      <td>0.0</td>\n",
       "      <td>1</td>\n",
       "    </tr>\n",
       "  </tbody>\n",
       "</table>\n",
       "<p>10000 rows × 4 columns</p>\n",
       "</div>"
      ],
      "text/plain": [
       "      Rank2  Number of Reviews  delta_1  kuhn\n",
       "0      92.7                4.0      0.0     2\n",
       "1       9.3               97.0     37.0     5\n",
       "2      45.9               28.0     22.0     1\n",
       "3      10.1              202.0     14.0     5\n",
       "4       4.2              162.0     15.0     6\n",
       "...     ...                ...      ...   ...\n",
       "9995   26.6               28.0    122.0     4\n",
       "9996   70.3                2.0      0.0     4\n",
       "9997   88.6                2.0      0.0     1\n",
       "9998   63.9                2.0      0.0     1\n",
       "9999   48.6               14.0      0.0     1\n",
       "\n",
       "[10000 rows x 4 columns]"
      ]
     },
     "execution_count": 37,
     "metadata": {},
     "output_type": "execute_result"
    }
   ],
   "source": [
    "test_data=df_test[['Rank2','Number of Reviews','delta_1','kuhn']]\n",
    "test_data"
   ]
  },
  {
   "cell_type": "code",
   "execution_count": 38,
   "metadata": {
    "execution": {
     "iopub.execute_input": "2021-01-23T19:53:02.189803Z",
     "iopub.status.busy": "2021-01-23T19:53:02.189096Z",
     "iopub.status.idle": "2021-01-23T19:53:02.203147Z",
     "shell.execute_reply": "2021-01-23T19:53:02.202584Z"
    },
    "papermill": {
     "duration": 0.064998,
     "end_time": "2021-01-23T19:53:02.203273",
     "exception": false,
     "start_time": "2021-01-23T19:53:02.138275",
     "status": "completed"
    },
    "tags": []
   },
   "outputs": [
    {
     "data": {
      "text/html": [
       "<div>\n",
       "<style scoped>\n",
       "    .dataframe tbody tr th:only-of-type {\n",
       "        vertical-align: middle;\n",
       "    }\n",
       "\n",
       "    .dataframe tbody tr th {\n",
       "        vertical-align: top;\n",
       "    }\n",
       "\n",
       "    .dataframe thead th {\n",
       "        text-align: right;\n",
       "    }\n",
       "</style>\n",
       "<table border=\"1\" class=\"dataframe\">\n",
       "  <thead>\n",
       "    <tr style=\"text-align: right;\">\n",
       "      <th></th>\n",
       "      <th>Restaurant_id</th>\n",
       "      <th>Rating</th>\n",
       "    </tr>\n",
       "  </thead>\n",
       "  <tbody>\n",
       "    <tr>\n",
       "      <th>0</th>\n",
       "      <td>id_0</td>\n",
       "      <td>2.0</td>\n",
       "    </tr>\n",
       "    <tr>\n",
       "      <th>1</th>\n",
       "      <td>id_1</td>\n",
       "      <td>2.5</td>\n",
       "    </tr>\n",
       "    <tr>\n",
       "      <th>2</th>\n",
       "      <td>id_2</td>\n",
       "      <td>4.0</td>\n",
       "    </tr>\n",
       "    <tr>\n",
       "      <th>3</th>\n",
       "      <td>id_3</td>\n",
       "      <td>1.0</td>\n",
       "    </tr>\n",
       "    <tr>\n",
       "      <th>4</th>\n",
       "      <td>id_4</td>\n",
       "      <td>4.0</td>\n",
       "    </tr>\n",
       "    <tr>\n",
       "      <th>...</th>\n",
       "      <td>...</td>\n",
       "      <td>...</td>\n",
       "    </tr>\n",
       "    <tr>\n",
       "      <th>9995</th>\n",
       "      <td>id_9995</td>\n",
       "      <td>3.0</td>\n",
       "    </tr>\n",
       "    <tr>\n",
       "      <th>9996</th>\n",
       "      <td>id_9996</td>\n",
       "      <td>1.5</td>\n",
       "    </tr>\n",
       "    <tr>\n",
       "      <th>9997</th>\n",
       "      <td>id_9997</td>\n",
       "      <td>4.5</td>\n",
       "    </tr>\n",
       "    <tr>\n",
       "      <th>9998</th>\n",
       "      <td>id_9998</td>\n",
       "      <td>1.0</td>\n",
       "    </tr>\n",
       "    <tr>\n",
       "      <th>9999</th>\n",
       "      <td>id_9999</td>\n",
       "      <td>2.5</td>\n",
       "    </tr>\n",
       "  </tbody>\n",
       "</table>\n",
       "<p>10000 rows × 2 columns</p>\n",
       "</div>"
      ],
      "text/plain": [
       "     Restaurant_id  Rating\n",
       "0             id_0     2.0\n",
       "1             id_1     2.5\n",
       "2             id_2     4.0\n",
       "3             id_3     1.0\n",
       "4             id_4     4.0\n",
       "...            ...     ...\n",
       "9995       id_9995     3.0\n",
       "9996       id_9996     1.5\n",
       "9997       id_9997     4.5\n",
       "9998       id_9998     1.0\n",
       "9999       id_9999     2.5\n",
       "\n",
       "[10000 rows x 2 columns]"
      ]
     },
     "execution_count": 38,
     "metadata": {},
     "output_type": "execute_result"
    }
   ],
   "source": [
    "sample_submission"
   ]
  },
  {
   "cell_type": "code",
   "execution_count": 39,
   "metadata": {
    "execution": {
     "iopub.execute_input": "2021-01-23T19:53:02.309170Z",
     "iopub.status.busy": "2021-01-23T19:53:02.308090Z",
     "iopub.status.idle": "2021-01-23T19:53:02.516249Z",
     "shell.execute_reply": "2021-01-23T19:53:02.516784Z"
    },
    "papermill": {
     "duration": 0.264722,
     "end_time": "2021-01-23T19:53:02.516944",
     "exception": false,
     "start_time": "2021-01-23T19:53:02.252222",
     "status": "completed"
    },
    "tags": []
   },
   "outputs": [
    {
     "name": "stderr",
     "output_type": "stream",
     "text": [
      "[Parallel(n_jobs=4)]: Using backend ThreadingBackend with 4 concurrent workers.\n",
      "[Parallel(n_jobs=4)]: Done  42 tasks      | elapsed:    0.1s\n",
      "[Parallel(n_jobs=4)]: Done 100 out of 100 | elapsed:    0.1s finished\n"
     ]
    }
   ],
   "source": [
    "predict_submission = regr.predict(test_data)"
   ]
  },
  {
   "cell_type": "code",
   "execution_count": 40,
   "metadata": {
    "execution": {
     "iopub.execute_input": "2021-01-23T19:53:02.632142Z",
     "iopub.status.busy": "2021-01-23T19:53:02.631368Z",
     "iopub.status.idle": "2021-01-23T19:53:02.634969Z",
     "shell.execute_reply": "2021-01-23T19:53:02.635536Z"
    },
    "papermill": {
     "duration": 0.062942,
     "end_time": "2021-01-23T19:53:02.635686",
     "exception": false,
     "start_time": "2021-01-23T19:53:02.572744",
     "status": "completed"
    },
    "tags": []
   },
   "outputs": [
    {
     "data": {
      "text/plain": [
       "array([3.47166667, 4.39      , 4.165     , ..., 3.06055952, 4.42185788,\n",
       "       4.33333333])"
      ]
     },
     "execution_count": 40,
     "metadata": {},
     "output_type": "execute_result"
    }
   ],
   "source": [
    "predict_submission"
   ]
  },
  {
   "cell_type": "code",
   "execution_count": 41,
   "metadata": {
    "execution": {
     "iopub.execute_input": "2021-01-23T19:53:02.742289Z",
     "iopub.status.busy": "2021-01-23T19:53:02.741501Z",
     "iopub.status.idle": "2021-01-23T19:53:03.138632Z",
     "shell.execute_reply": "2021-01-23T19:53:03.137806Z"
    },
    "papermill": {
     "duration": 0.452174,
     "end_time": "2021-01-23T19:53:03.138780",
     "exception": false,
     "start_time": "2021-01-23T19:53:02.686606",
     "status": "completed"
    },
    "tags": []
   },
   "outputs": [
    {
     "data": {
      "text/html": [
       "<div>\n",
       "<style scoped>\n",
       "    .dataframe tbody tr th:only-of-type {\n",
       "        vertical-align: middle;\n",
       "    }\n",
       "\n",
       "    .dataframe tbody tr th {\n",
       "        vertical-align: top;\n",
       "    }\n",
       "\n",
       "    .dataframe thead th {\n",
       "        text-align: right;\n",
       "    }\n",
       "</style>\n",
       "<table border=\"1\" class=\"dataframe\">\n",
       "  <thead>\n",
       "    <tr style=\"text-align: right;\">\n",
       "      <th></th>\n",
       "      <th>Restaurant_id</th>\n",
       "      <th>Rating</th>\n",
       "    </tr>\n",
       "  </thead>\n",
       "  <tbody>\n",
       "    <tr>\n",
       "      <th>0</th>\n",
       "      <td>id_0</td>\n",
       "      <td>3.471667</td>\n",
       "    </tr>\n",
       "    <tr>\n",
       "      <th>1</th>\n",
       "      <td>id_1</td>\n",
       "      <td>4.390000</td>\n",
       "    </tr>\n",
       "    <tr>\n",
       "      <th>2</th>\n",
       "      <td>id_2</td>\n",
       "      <td>4.165000</td>\n",
       "    </tr>\n",
       "    <tr>\n",
       "      <th>3</th>\n",
       "      <td>id_3</td>\n",
       "      <td>4.290000</td>\n",
       "    </tr>\n",
       "    <tr>\n",
       "      <th>4</th>\n",
       "      <td>id_4</td>\n",
       "      <td>4.500000</td>\n",
       "    </tr>\n",
       "    <tr>\n",
       "      <th>5</th>\n",
       "      <td>id_5</td>\n",
       "      <td>4.430000</td>\n",
       "    </tr>\n",
       "    <tr>\n",
       "      <th>6</th>\n",
       "      <td>id_6</td>\n",
       "      <td>1.880000</td>\n",
       "    </tr>\n",
       "    <tr>\n",
       "      <th>7</th>\n",
       "      <td>id_7</td>\n",
       "      <td>5.000000</td>\n",
       "    </tr>\n",
       "    <tr>\n",
       "      <th>8</th>\n",
       "      <td>id_8</td>\n",
       "      <td>4.494375</td>\n",
       "    </tr>\n",
       "    <tr>\n",
       "      <th>9</th>\n",
       "      <td>id_9</td>\n",
       "      <td>4.645000</td>\n",
       "    </tr>\n",
       "  </tbody>\n",
       "</table>\n",
       "</div>"
      ],
      "text/plain": [
       "  Restaurant_id    Rating\n",
       "0          id_0  3.471667\n",
       "1          id_1  4.390000\n",
       "2          id_2  4.165000\n",
       "3          id_3  4.290000\n",
       "4          id_4  4.500000\n",
       "5          id_5  4.430000\n",
       "6          id_6  1.880000\n",
       "7          id_7  5.000000\n",
       "8          id_8  4.494375\n",
       "9          id_9  4.645000"
      ]
     },
     "execution_count": 41,
     "metadata": {},
     "output_type": "execute_result"
    }
   ],
   "source": [
    "sample_submission['Rating'] = predict_submission\n",
    "sample_submission.to_csv('submission.csv', index=False)\n",
    "sample_submission.head(10)"
   ]
  }
 ],
 "metadata": {
  "kernelspec": {
   "display_name": "Python 3",
   "language": "python",
   "name": "python3"
  },
  "language_info": {
   "codemirror_mode": {
    "name": "ipython",
    "version": 3
   },
   "file_extension": ".py",
   "mimetype": "text/x-python",
   "name": "python",
   "nbconvert_exporter": "python",
   "pygments_lexer": "ipython3",
   "version": "3.7.6"
  },
  "papermill": {
   "duration": 39.048872,
   "end_time": "2021-01-23T19:53:03.300387",
   "environment_variables": {},
   "exception": null,
   "input_path": "__notebook__.ipynb",
   "output_path": "__notebook__.ipynb",
   "parameters": {},
   "start_time": "2021-01-23T19:52:24.251515",
   "version": "2.1.0"
  }
 },
 "nbformat": 4,
 "nbformat_minor": 4
}
